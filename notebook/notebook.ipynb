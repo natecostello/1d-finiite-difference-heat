{
 "cells": [
  {
   "cell_type": "raw",
   "metadata": {
    "vscode": {
     "languageId": "raw"
    }
   },
   "source": [
    "---\n",
    "title: 1D Finite Difference Heat Equation Solver\n",
    "format:\n",
    "  eisvogel-pdf:\n",
    "    titlepage: false\n",
    "    toc: false\n",
    "    number-sections: false\n",
    "author: Nate Costello\n",
    "date: last-modified\n",
    "bibliography: references.bib\n",
    "---"
   ]
  },
  {
   "cell_type": "markdown",
   "metadata": {},
   "source": [
    "# 1D Heat Equation Derivation with variable diffusivity\n",
    "\n",
    "We will follow the derivation presented in this video: [**Deriving the Heat Equation: A Parabolic Partial Differential Equation for Heat Energy Conservation**](https://www.youtube.com/watch?v=9d8PwnKVA-U).\n",
    "\n",
    "## Deriving the Heat Equation\n",
    "\n",
    "The heat equation in words:\n",
    "\n",
    "$${\\left[ \\text{The rate of change of} \\atop \\text{heat energy in time} \\right]} = {\\left[ \\text{heat flux through} \\atop \\text{boundary to neighbor} \\right]} + {\\left[ \\text{heat energy} \\atop \\text{generated in x,t} \\right]}$$ {#eq-heat-words}\n",
    "\n",
    "The heat equation in math:\n",
    "\n",
    "$$\\frac{\\partial}{\\partial t}c(x)\\rho(x)u(x,t)=-\\frac{\\partial q(x,t)}{\\partial x} + Q(x,t)$$ \n",
    "Because $c$ and $\\rho$ are constant with respect to time, we can write:\n",
    "\n",
    "$$c(x)\\rho(x)\\frac{\\partial}{\\partial t}u(x,t)=-\\frac{\\partial q(x,t)}{\\partial x} + Q(x,t)$$\n",
    "\n",
    "Divide both sides by $c(x)\\rho(x)$:\n",
    "\n",
    "$$\\frac{\\partial}{\\partial t}u(x,t)=-\\frac{1}{c(x)\\rho(x)}\\frac{\\partial q(x,t)}{\\partial x} + \\frac{1}{c(x)\\rho(x)}Q(x,t)$$ {#eq-heat-math}\n",
    "\n",
    "\n",
    "$q(x,t)$ is the heat flux (from left to right).  From Fourier's Law:\n",
    "$$q(x,t)=-k(x)\\frac{\\partial u(x,t)}{\\partial x}$$ {#eq-fourier}\n",
    "\n",
    "Apply the chain rule to Eq. @eq-fourier:\n",
    "$$\\frac{\\partial q(x,t)}{\\partial x}=-\\frac{\\partial}{\\partial x} \\left( k(x)\\frac{\\partial u(x,t)}{\\partial x} \\right)=-\\left[\\frac{\\partial k(x)}{\\partial x}\\frac{\\partial u(x,t)}{\\partial x}+k(x)\\frac{\\partial^2 u(x,t)}{\\partial x^2}\\right]$$ {#eq-fourier-chain}\n",
    "\n",
    "Substitute Eq. @eq-fourier-chain into Eq. @eq-heat-math:\n",
    "$$\\frac{\\partial}{\\partial t}u(x,t)=\\frac{1}{c(x)\\rho(x)}\\left[\\frac{\\partial k(x)}{\\partial x}\\frac{\\partial u(x,t)}{\\partial x}+k(x)\\frac{\\partial^2 u(x,t)}{\\partial x^2}\\right] + \\frac{1}{c(x)\\rho(x)}Q(x,t)$$ {#eq-heat-final}\n",
    "\n",
    "We assume no heat generation, and thus remove the last term in Eq. @eq-heat-final:\n",
    "$$\\frac{\\partial}{\\partial t}u(x,t)=\\frac{1}{c(x)\\rho(x)}\\left[\\frac{\\partial k(x)}{\\partial x}\\frac{\\partial u(x,t)}{\\partial x}+k(x)\\frac{\\partial^2 u(x,t)}{\\partial x^2}\\right]$$ {#eq-heat-final-noQ}\n",
    "\n",
    "## Discretization\n",
    "\n",
    "We'll discretize according to this paper: [Finite-Difference Approximations\n",
    "to the Heat Equation](https://webspace.science.uu.nl/~zegel101/MOLMODWISK/FDheat2.pdf) TODO make this a reference.\n",
    "\n",
    "Specifically we'll use the *Forward Time Central Space* (FTCS) scheme.\n",
    "\n",
    "Notation: \n",
    "\n",
    "$x_i$ is the value $x$ at the $i_{th}$ point, $t_m$ is the value of $t$ at the $m_{th}$ time.  \n",
    "$x_{i+1} = x_i + \\Delta x$  \n",
    "$x_{i-1} = x_i - \\Delta x$  \n",
    "$t_{m+1} = t_m + \\Delta t$  \n",
    "\n",
    "\n",
    "We approximate the time derivative with a forward difference.  The value of the first dirivative of time, evaluated at the point $x_i$ and time $t_{m}$ is:\n",
    "\n",
    "$$\\frac{\\partial}{\\partial t}u(x_i,t_{m})= \\frac{u(x_i,t_{m+1})-u(x_i,t_m)}{\\delta t}+\\Omicron(\\Delta t)$$\n",
    "\n",
    "and is approximated as:\n",
    "\n",
    "$$\\frac{\\partial}{\\partial t}u(x_i,t_{m})\\approx \\frac{u(x_i,t_{m+1})-u(x_i,t_m)}{\\delta t}$$\n",
    "\n",
    "\n",
    "We approximate the spatial derivative with a central difference.  We'll use a central difference for the first derivative, and a central difference for the second derivative.  \n",
    "\n",
    "The first spatial derivative is:\n",
    "\n",
    "$$\\frac{\\partial}{\\partial x}u(x_i,t_{m})=\\frac{u(x_{i+1},t_m)-u(x_{i-1},t_m)}{2\\Delta x} + \\Omicron(\\Delta x^2)$$\n",
    "\n",
    "and is approximated as:\n",
    "\n",
    "$$\\frac{\\partial}{\\partial x}u(x_i,t_{m})\\approx \\frac{u(x_{i+1},t_m)-u(x_{i-1},t_m)}{2\\Delta x}$$\n",
    "\n",
    "The second spatial derivative is:\n",
    "$$\\frac{\\partial^2}{\\partial x^2}u(x_i,t_{m})=\\frac{u(x_{i+1},t_m)-2u(x_i,t_m)+u(x_{i-1},t_m)}{2\\Delta x} + \\Omicron(\\Delta x^2)$$\n",
    "\n",
    "and is approximated as:\n",
    "\n",
    "$$\\frac{\\partial^2}{\\partial x^2}u(x_i,t_{m})\\approx \\frac{u(x_{i+1},t_m)-2u(x_i,t_m)+u(x_{i-1},t_m)}{2\\Delta x}$$\n"
   ]
  },
  {
   "cell_type": "code",
   "execution_count": null,
   "metadata": {},
   "outputs": [],
   "source": []
  }
 ],
 "metadata": {
  "kernelspec": {
   "display_name": "Python 3",
   "language": "python",
   "name": "python3"
  },
  "language_info": {
   "name": "python",
   "version": "3.12.1"
  }
 },
 "nbformat": 4,
 "nbformat_minor": 2
}
